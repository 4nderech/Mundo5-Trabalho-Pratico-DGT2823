{
  "nbformat": 4,
  "nbformat_minor": 0,
  "metadata": {
    "colab": {
      "provenance": []
    },
    "kernelspec": {
      "name": "python3",
      "display_name": "Python 3"
    },
    "language_info": {
      "name": "python"
    }
  },
  "cells": [
    {
      "cell_type": "code",
      "execution_count": null,
      "metadata": {
        "id": "cR8w4KemjxYK"
      },
      "outputs": [],
      "source": [
        "# Microatividade 01\n",
        "import pandas as pd\n",
        "\n",
        "# Lendo o arquivo CSV\n",
        "df = pd.read_csv(\"dados.csv\", delimiter=\";\", engine=\"python\", encoding=\"utf-8\")\n",
        "\n",
        "# Exibindo os dados do arquivo\n",
        "print(df)"
      ]
    },
    {
      "cell_type": "code",
      "source": [
        "# Microatividade 02\n",
        "import pandas as pd\n",
        "\n",
        "# Lendo o arquivo CSV\n",
        "df = pd.read_csv(\"dados.csv\", delimiter=\";\", engine=\"python\", encoding=\"utf-8\")\n",
        "\n",
        "# Exibindo as 3 primeiras colunas\n",
        "subset = df[[\"ID\", \"Duration\", \"Date\"]]\n",
        "print(subset)"
      ],
      "metadata": {
        "id": "N0vtFdtBtJHq"
      },
      "execution_count": null,
      "outputs": []
    },
    {
      "cell_type": "code",
      "source": [
        "# Microatividade 03\n",
        "import pandas as pd\n",
        "\n",
        "# Lendo o arquivo CSV\n",
        "df = pd.read_csv(\"dados.csv\", delimiter=\";\", engine=\"python\", encoding=\"utf-8\")\n",
        "\n",
        "# Exibindo os dados\n",
        "pd.set_option(\"display.max_rows\", 9999)\n",
        "print(df.to_string())"
      ],
      "metadata": {
        "id": "KLdArYU_ucwa"
      },
      "execution_count": null,
      "outputs": []
    },
    {
      "cell_type": "code",
      "source": [
        "# Microatividade 04\n",
        "import pandas as pd\n",
        "\n",
        "# Lendo o arquivo CSV\n",
        "df = pd.read_csv(\"dados.csv\", delimiter=\";\", engine=\"python\", encoding=\"utf-8\")\n",
        "\n",
        "# Exibindo as 10 primeiras linhas do arquivo\n",
        "print(\"Primeiras 10 linhas:\")\n",
        "print(df.head(10))\n",
        "\n",
        "# Exibindo as 10 ultimas linhas do arquivo\n",
        "print(\"\\nÚltimas 10 linhas:\")\n",
        "print(df.tail(10))"
      ],
      "metadata": {
        "id": "ngPKIkhiwuaa"
      },
      "execution_count": null,
      "outputs": []
    },
    {
      "cell_type": "code",
      "source": [
        "# Microatividade 05\n",
        "import pandas as pd\n",
        "\n",
        "# Lendo o arquivo CSV\n",
        "df = pd.read_csv(\"dados.csv\", delimiter=\";\", engine=\"python\", encoding=\"utf-8\")\n",
        "\n",
        "# Exibindo os dados gerais\n",
        "print(\"Informações gerais:\")\n",
        "print(df.info())"
      ],
      "metadata": {
        "id": "rUWJu_Qi7pRf"
      },
      "execution_count": null,
      "outputs": []
    },
    {
      "cell_type": "code",
      "source": [
        "# Trabalho Prático | DGT2823 Tecnologias para desenv. de soluções de big data\n",
        "# Dev Full Stack - Estacio\n",
        "print(\"\\nTrabalho Prático | DGT2823 Tecnologias para desenv. de soluções de big data\")\n",
        "print(\"Desenvolvimento Full Stack - Faculdade Estacio de Sa\")\n",
        "\n",
        "# Importar bibliotecas necessarias\n",
        "import pandas as pd\n",
        "\n",
        "# Ler o CSV (ajuste o caminho, separador e encoding se necessário)\n",
        "df = pd.read_csv('dados.csv', sep=';', engine='python', encoding=\"utf-8\")\n",
        "print(\"\\nDataframe Original e Informações Gerais pré-tratamento:\")\n",
        "print(df)\n",
        "print(df.info())\n",
        "\n",
        "# Criar variavel e atribuir a cópia do arquivo original\n",
        "copy_df = df.copy()\n",
        "\n",
        "# Corrigir valores na coluna 'Calories'\n",
        "copy_df['Calories'] = copy_df['Calories'].astype(str).str.extract(r'(\\d+)')\n",
        "copy_df['Calories'] = pd.to_numeric(copy_df['Calories'], errors='coerce')\n",
        "# Substituir valores ausentes em 'Calories' por 0\n",
        "copy_df['Calories'] = copy_df['Calories'].fillna(0)\n",
        "\n",
        "# Corrigir os valores da coluna 'Date'\n",
        "copy_df['Date'] = copy_df['Date'].astype(str).str.replace(\"'\", \"\")\n",
        "# Substituir valores ausentes em 'Date'\n",
        "copy_df['Date'] = copy_df['Date'].fillna('1900/01/01')\n",
        "# Corrigir formato incorreto de datas ('20201226')\n",
        "copy_df['Date'] = copy_df['Date'].replace('20201226', '2020/12/26')\n",
        "# Converter coluna 'Date' para datetime\n",
        "copy_df['Date'] = pd.to_datetime(copy_df['Date'], format='%Y/%m/%d', errors='coerce')\n",
        "\n",
        "# Remover valores nulos restantes\n",
        "copy_df = copy_df.dropna()\n",
        "\n",
        "# Imprima o dataframe com os resultados já tratados\n",
        "print(\"\\nDataFrame final após tratamento dos dados:\")\n",
        "print(copy_df)\n",
        "\n",
        "print(\"\\nInformações Gerais do DataFrame Tratado:\")\n",
        "print(copy_df.info())"
      ],
      "metadata": {
        "id": "1aPDU7fLHtq3"
      },
      "execution_count": null,
      "outputs": []
    }
  ]
}